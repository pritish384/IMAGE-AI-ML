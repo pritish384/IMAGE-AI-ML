{
 "cells": [
  {
   "cell_type": "code",
   "execution_count": null,
   "metadata": {},
   "outputs": [],
   "source": [
    "! pip install transformers accelerate safetensors diffusers gradio"
   ]
  },
  {
   "cell_type": "code",
   "execution_count": null,
   "metadata": {},
   "outputs": [],
   "source": [
    "from diffusers import DiffusionPipeline\n",
    "import torch\n",
    "import gradio as gr"
   ]
  },
  {
   "cell_type": "code",
   "execution_count": null,
   "metadata": {},
   "outputs": [],
   "source": [
    "# AI code\n",
    "pipe = DiffusionPipeline.from_pretrained(\n",
    "    \"playgroundai/playground-v2-1024px-aesthetic\",\n",
    "    torch_dtype=torch.float16,\n",
    "    use_safetensors=True,\n",
    "    add_watermarker=False,\n",
    "    variant=\"fp16\"\n",
    ")\n",
    "pipe.to(\"cuda\")"
   ]
  },
  {
   "cell_type": "code",
   "execution_count": null,
   "metadata": {},
   "outputs": [],
   "source": [
    "#API code\n",
    "def api(prompt):\n",
    "    image  = pipe(prompt=prompt, guidance_scale=10.0).images[0]\n",
    "    return image\n",
    "\n",
    "# gradio\n",
    "demo = gr.Interface(\n",
    "    fn=api,\n",
    "    inputs=gr.Textbox(lines=2, placeholder=\"Name Here...\"),\n",
    "    outputs=\"image\",\n",
    ")\n",
    "demo.launch(show_api=True)\n",
    "while(True):pass"
   ]
  }
 ],
 "metadata": {
  "language_info": {
   "name": "python"
  }
 },
 "nbformat": 4,
 "nbformat_minor": 2
}
