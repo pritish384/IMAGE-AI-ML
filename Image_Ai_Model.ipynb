{
  "cells": [
    {
      "cell_type": "markdown",
      "metadata": {
        "id": "view-in-github",
        "colab_type": "text"
      },
      "source": [
        "<a href=\"https://colab.research.google.com/github/pritish384/IMAGE-AI-ML/blob/main/Image_Ai_Model.ipynb\" target=\"_parent\"><img src=\"https://colab.research.google.com/assets/colab-badge.svg\" alt=\"Open In Colab\"/></a>"
      ]
    },
    {
      "cell_type": "markdown",
      "source": [
        "# **Do not edit any code or make any changes unless you know what your are doing.**\n"
      ],
      "metadata": {
        "id": "RDqHD4cUFFBy"
      }
    },
    {
      "cell_type": "markdown",
      "source": [
        "AI Image Generation model | Stable Diffusion | Gradio | Made with 💖 by PRITISH PURAV\n",
        "\n",
        "\n"
      ],
      "metadata": {
        "id": "Sdnxi1BeFwfC"
      }
    },
    {
      "cell_type": "markdown",
      "source": [
        "# Running Colab Notebook\n",
        "\n",
        "## Step 1: Make a Copy of the Notebook\n",
        "\n",
        "- Open the Colab notebook you want to run.\n",
        "- Click on \"File\" in the top-left corner.\n",
        "- Select \"Save a copy in Drive\" to make a copy.\n",
        "\n",
        "## Step 2: Run All the Cells\n",
        "\n",
        "- Open the copied notebook in Colab.\n",
        "- Click on \"Runtime\" in the top-left corner.\n",
        "- Select \"Run all\" from the dropdown menu.\n",
        "\n",
        "## Step 3: Wait\n",
        "\n",
        "- Allow the notebook to run. The time it takes depends on the complexity of the code and the resources required.\n",
        "- It Will Take Around 10-15 Minutes to execute\n",
        "\n",
        "## Step 4: Use\n",
        "\n",
        "- Once all the cells have been executed, you can start using it.\n",
        "\n",
        "# **It is recommended to use Gradio Interface inside the notebook only**"
      ],
      "metadata": {
        "id": "yj9rSwNMKDkc"
      }
    },
    {
      "cell_type": "code",
      "execution_count": null,
      "metadata": {
        "id": "VaAI-z1Bxj54",
        "cellView": "form"
      },
      "outputs": [],
      "source": [
        "#@markdown Install dependencies\n",
        "! pip install transformers accelerate safetensors diffusers gradio"
      ]
    },
    {
      "cell_type": "code",
      "execution_count": null,
      "metadata": {
        "id": "BboorKm7xyOC",
        "cellView": "form"
      },
      "outputs": [],
      "source": [
        "#@markdown Import modules\n",
        "from diffusers import DiffusionPipeline\n",
        "import torch\n",
        "import gradio as gr"
      ]
    },
    {
      "cell_type": "code",
      "execution_count": null,
      "metadata": {
        "colab": {
          "background_save": true
        },
        "id": "yErH-nXP-dIW",
        "cellView": "form"
      },
      "outputs": [],
      "source": [
        "#@markdown Download and Install pretrained Model\n",
        "# AI code\n",
        "pipe = DiffusionPipeline.from_pretrained(\n",
        "    \"playgroundai/playground-v2-1024px-aesthetic\",\n",
        "    torch_dtype=torch.float16,\n",
        "    use_safetensors=True,\n",
        "    add_watermarker=False,\n",
        "    variant=\"fp16\"\n",
        ")\n",
        "pipe.to(\"cuda\")"
      ]
    },
    {
      "cell_type": "code",
      "execution_count": null,
      "metadata": {
        "colab": {
          "background_save": true
        },
        "id": "iGwmdVhJyxy9"
      },
      "outputs": [],
      "source": [
        "#@markdown Main Api and Gradio Interface\n",
        "#API code\n",
        "def api(prompt):\n",
        "    image  = pipe(prompt=prompt, guidance_scale=guidance_scale).images[0]\n",
        "    return image\n",
        "\n",
        "# gradio\n",
        "demo = gr.Interface(\n",
        "    fn=api,\n",
        "    inputs=gr.Textbox(lines=2, placeholder=\"Name Here...\"),\n",
        "    outputs=\"image\",\n",
        ")\n",
        "demo.launch(show_api=False, share=True)"
      ]
    }
  ],
  "metadata": {
    "accelerator": "GPU",
    "colab": {
      "provenance": [],
      "mount_file_id": "153ddKqMMjD-zKYZuV7olV323GKjqu6yY",
      "authorship_tag": "ABX9TyN5yo1w8CkLZCwPR6psQwSo",
      "include_colab_link": true
    },
    "kernelspec": {
      "display_name": "Python 3",
      "name": "python3"
    },
    "language_info": {
      "name": "python"
    }
  },
  "nbformat": 4,
  "nbformat_minor": 0
}