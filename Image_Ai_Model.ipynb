{
  "cells": [
    {
      "cell_type": "markdown",
      "metadata": {
        "id": "view-in-github",
        "colab_type": "text"
      },
      "source": [
        "<a href=\"https://colab.research.google.com/github/pritish384/IMAGE-AI-ML/blob/main/Image_Ai_Model.ipynb\" target=\"_parent\"><img src=\"https://colab.research.google.com/assets/colab-badge.svg\" alt=\"Open In Colab\"/></a>"
      ]
    },
    {
      "cell_type": "markdown",
      "source": [
        "# **Do not edit any code or make any changes unless you know what your are doing.**"
      ],
      "metadata": {
        "id": "RDqHD4cUFFBy"
      }
    },
    {
      "cell_type": "markdown",
      "source": [
        "AI Image Generation model | Stable Diffusion | Gradio | Made with 💖 by PRITISH PURAV\n",
        "\n",
        "\n"
      ],
      "metadata": {
        "id": "Sdnxi1BeFwfC"
      }
    },
    {
      "cell_type": "code",
      "execution_count": null,
      "metadata": {
        "id": "VaAI-z1Bxj54",
        "cellView": "form"
      },
      "outputs": [],
      "source": [
        "#@markdown Install dependencies\n",
        "! pip install transformers accelerate safetensors diffusers gradio"
      ]
    },
    {
      "cell_type": "code",
      "execution_count": null,
      "metadata": {
        "id": "BboorKm7xyOC",
        "cellView": "form"
      },
      "outputs": [],
      "source": [
        "#@markdown Import modules\n",
        "from diffusers import DiffusionPipeline\n",
        "import torch\n",
        "import gradio as gr"
      ]
    },
    {
      "cell_type": "code",
      "execution_count": null,
      "metadata": {
        "colab": {
          "background_save": true
        },
        "id": "yErH-nXP-dIW",
        "cellView": "form"
      },
      "outputs": [],
      "source": [
        "#@markdown Download and Install pretrained Model\n",
        "# AI code\n",
        "pipe = DiffusionPipeline.from_pretrained(\n",
        "    \"playgroundai/playground-v2-1024px-aesthetic\",\n",
        "    torch_dtype=torch.float16,\n",
        "    use_safetensors=True,\n",
        "    add_watermarker=False,\n",
        "    variant=\"fp16\"\n",
        ")\n",
        "pipe.to(\"cuda\")"
      ]
    },
    {
      "cell_type": "code",
      "execution_count": null,
      "metadata": {
        "colab": {
          "background_save": true
        },
        "id": "iGwmdVhJyxy9",
        "cellView": "form"
      },
      "outputs": [],
      "source": [
        "#@markdown Main Api and Gradio Interface\n",
        "#API code\n",
        "def api(prompt):\n",
        "    image  = pipe(prompt=prompt, guidance_scale=10.0).images[0]\n",
        "    return image\n",
        "\n",
        "# gradio\n",
        "demo = gr.Interface(\n",
        "    fn=api,\n",
        "    inputs=gr.Textbox(lines=2, placeholder=\"Name Here...\"),\n",
        "    outputs=\"image\",\n",
        ")\n",
        "demo.launch(show_api=False, share=True)\n",
        "while(True):pass"
      ]
    }
  ],
  "metadata": {
    "accelerator": "GPU",
    "colab": {
      "provenance": [],
      "mount_file_id": "153ddKqMMjD-zKYZuV7olV323GKjqu6yY",
      "authorship_tag": "ABX9TyOoEIQ0Bi31g8gkUhaeI/DT",
      "include_colab_link": true
    },
    "kernelspec": {
      "display_name": "Python 3",
      "name": "python3"
    },
    "language_info": {
      "name": "python"
    }
  },
  "nbformat": 4,
  "nbformat_minor": 0
}